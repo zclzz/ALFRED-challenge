{
 "cells": [
  {
   "cell_type": "code",
   "execution_count": 15,
   "metadata": {},
   "outputs": [],
   "source": [
    "# load dataset\n",
    "import pickle\n",
    "train_set = pickle.load(open('data/alfred_data/train_text_with_ppdl_low_appended.p', 'rb'))\n",
    "val_set_seen = pickle.load(open('data/alfred_data/val_seen_text_with_ppdl_low_appended.p', 'rb'))\n",
    "val_set_unseen = pickle.load(open('data/alfred_data/val_unseen_text_with_ppdl_low_appended.p', 'rb'))\n",
    "obj2idx = pickle.load(open('data/alfred_data/alfred_dicts/obj2idx.p', 'rb'))\n",
    "label_arg = 'object_targets'; num_labels = len(obj2idx)"
   ]
  },
  {
   "cell_type": "code",
   "execution_count": 7,
   "metadata": {},
   "outputs": [
    {
     "data": {
      "text/plain": [
       "True"
      ]
     },
     "execution_count": 7,
     "metadata": {},
     "output_type": "execute_result"
    }
   ],
   "source": [
    "import wandb\n",
    "wandb.login()"
   ]
  },
  {
   "cell_type": "code",
   "execution_count": 8,
   "metadata": {},
   "outputs": [],
   "source": [
    "sweep_config = {\n",
    "    'method': 'grid',\n",
    "}"
   ]
  },
  {
   "cell_type": "code",
   "execution_count": 9,
   "metadata": {},
   "outputs": [],
   "source": [
    "parameters_dict = {\n",
    "    'epoch': {\n",
    "        'values': [20, 25, 35, 40, 50]\n",
    "        },\n",
    "    'learning_rate': {\n",
    "        'values': [0.0001, 0.0005, 0.001]\n",
    "        },\n",
    "    'decay': {\n",
    "        'values': [0.5, 0.6, 0.7, 0.8]\n",
    "        },\n",
    "    'decay_term': {\n",
    "          'values': [5, 6, 7, 8, 9, 10]\n",
    "        },\n",
    "    }\n",
    "\n",
    "sweep_config['parameters'] = parameters_dict"
   ]
  },
  {
   "cell_type": "code",
   "execution_count": 10,
   "metadata": {},
   "outputs": [
    {
     "name": "stdout",
     "output_type": "stream",
     "text": [
      "{'method': 'grid',\n",
      " 'parameters': {'decay': {'values': [0.5, 0.6, 0.7, 0.8]},\n",
      "                'decay_term': {'values': [5, 6, 7, 8, 9, 10]},\n",
      "                'epoch': {'values': [20, 25, 35, 40, 50]},\n",
      "                'learning_rate': {'values': [0.0001, 0.0005, 0.001]}}}\n"
     ]
    }
   ],
   "source": [
    "import pprint\n",
    "pprint.pprint(sweep_config)"
   ]
  },
  {
   "cell_type": "code",
   "execution_count": 11,
   "metadata": {},
   "outputs": [
    {
     "name": "stdout",
     "output_type": "stream",
     "text": [
      "Create sweep with ID: 0d9uy30p\n",
      "Sweep URL: https://wandb.ai/chaozhoulim/wandb-sweeps-demo/sweeps/0d9uy30p\n"
     ]
    }
   ],
   "source": [
    "sweep_id = wandb.sweep(sweep_config, project=\"wandb-sweeps-demo\")"
   ]
  },
  {
   "cell_type": "code",
   "execution_count": 12,
   "metadata": {},
   "outputs": [],
   "source": [
    "import torch\n",
    "\n",
    "#Set device\n",
    "if torch.cuda.is_available():\n",
    "    device = torch.device('cuda')\n",
    "else:\n",
    "    device = torch.device('cpu')"
   ]
  },
  {
   "cell_type": "code",
   "execution_count": 13,
   "metadata": {},
   "outputs": [
    {
     "name": "stderr",
     "output_type": "stream",
     "text": [
      "Some weights of BertForSequenceClassification were not initialized from the model checkpoint at bert-base-uncased and are newly initialized: ['classifier.weight', 'classifier.bias']\n",
      "You should probably TRAIN this model on a down-stream task to be able to use it for predictions and inference.\n"
     ]
    }
   ],
   "source": [
    "from transformers import BertTokenizer as Tokenizer\n",
    "from transformers import BertForSequenceClassification as Model\n",
    "tokenizer = Tokenizer.from_pretrained('bert-base-uncased')\n",
    "model = Model.from_pretrained('bert-base-uncased', num_labels=num_labels)"
   ]
  },
  {
   "cell_type": "code",
   "execution_count": 14,
   "metadata": {},
   "outputs": [],
   "source": [
    "import random\n",
    "from random import shuffle\n",
    "import numpy as np\n",
    "x_train = train_set['x_low']; y_train = train_set['y']\n",
    "\n",
    "x_train = [str(y_train[i])+ ' ' + x for i, x in enumerate(x_train)] \n",
    "\n",
    "x_ones = [i for i, lab in enumerate(y_train) if lab == 1]\n",
    "random.seed(0)\n",
    "shuffled = [i for i in x_ones]\n",
    "shuffle(shuffled)\n",
    "#x_train = np.array(train_set['x_low'])[shuffled]\n",
    "x_train = np.array(x_train)[shuffled]\n",
    "x_train = x_train.tolist()\n",
    "encoding = tokenizer(x_train, return_tensors='pt', padding=True, truncation=True)\n",
    "input_ids = encoding['input_ids'].to(device) #has shape [21025, 37]\n",
    "attention_mask = encoding['attention_mask'].to(device) #also has shape [21025, 37]\n",
    "\n",
    "label_train = np.array(train_set[label_arg])[shuffled]\n",
    "label_train = torch.tensor(label_train).to(device)"
   ]
  },
  {
   "cell_type": "code",
   "execution_count": 16,
   "metadata": {},
   "outputs": [],
   "source": [
    "x_val_seen = val_set_seen['x_low']; y_val_seen = val_set_seen['y']\n",
    "x_val_seen = [str(y_val_seen[i])+ ' ' + x for i, x in enumerate(x_val_seen)]\n",
    "\n",
    "x_ones_vs = [i for i, lab in enumerate(y_val_seen) if lab == 1]\n",
    "x_val_seen = np.array(x_val_seen)[x_ones_vs].tolist()\n",
    "encoding_v_s = tokenizer(x_val_seen, return_tensors='pt', padding=True, truncation=True)\n",
    "input_ids_val_seen = encoding_v_s['input_ids'].to(device)\n",
    "attention_mask_val_seen = encoding_v_s['attention_mask'].to(device) \n",
    "\n",
    "label_val_seen = [val_set_seen[label_arg][i] for i in x_ones_vs]\n",
    "label_val_seen = torch.tensor(label_val_seen).to(device)"
   ]
  },
  {
   "cell_type": "code",
   "execution_count": null,
   "metadata": {},
   "outputs": [],
   "source": [
    "with wandb.init(config=None):\n",
    "        # If called by wandb.agent, as below,\n",
    "        # this config will be set by Sweep Controller\n",
    "        config = wandb.config\n",
    "\n",
    "        loader = build_dataset(config.batch_size)\n",
    "        network = build_network(config.fc_layer_size, config.dropout)\n",
    "        optimizer = build_optimizer(network, config.optimizer, config.learning_rate)\n",
    "\n",
    "        for epoch in range(config.epochs):\n",
    "            avg_loss = train_epoch(network, loader, optimizer)\n",
    "            wandb.log({\"loss\": avg_loss, \"epoch\": epoch})        "
   ]
  }
 ],
 "metadata": {
  "kernelspec": {
   "display_name": "Python 3",
   "language": "python",
   "name": "python3"
  },
  "language_info": {
   "codemirror_mode": {
    "name": "ipython",
    "version": 3
   },
   "file_extension": ".py",
   "mimetype": "text/x-python",
   "name": "python",
   "nbconvert_exporter": "python",
   "pygments_lexer": "ipython3",
   "version": "3.8.10"
  },
  "orig_nbformat": 4
 },
 "nbformat": 4,
 "nbformat_minor": 2
}
