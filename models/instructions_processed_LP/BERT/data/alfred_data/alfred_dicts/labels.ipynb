{
 "cells": [
  {
   "cell_type": "code",
   "execution_count": 1,
   "metadata": {},
   "outputs": [],
   "source": [
    "import pickle"
   ]
  },
  {
   "cell_type": "code",
   "execution_count": 21,
   "metadata": {},
   "outputs": [
    {
     "data": {
      "text/plain": [
       "{2: 'pick_and_place_simple',\n",
       " 5: 'look_at_obj_in_light',\n",
       " 1: 'pick_and_place_with_movable_recep',\n",
       " 3: 'pick_two_obj_and_place',\n",
       " 6: 'pick_clean_then_place_in_recep',\n",
       " 4: 'pick_heat_then_place_in_recep',\n",
       " 0: 'pick_cool_then_place_in_recep'}"
      ]
     },
     "execution_count": 21,
     "metadata": {},
     "output_type": "execute_result"
    }
   ],
   "source": [
    "with open('correct_labels_dict_ppdl.p', 'rb') as f: # task_type 1-7\n",
    "    correct_labels_dict = pickle.load(f)\n",
    "correct_labels_dict\n",
    "{v:k for k, v in correct_labels_dict.items()} "
   ]
  },
  {
   "cell_type": "code",
   "execution_count": 5,
   "metadata": {},
   "outputs": [
    {
     "data": {
      "text/plain": [
       "{0: [0, 1, 1, 0],\n",
       " 1: [1, 1, 1, 0],\n",
       " 2: [0, 1, 1, 0],\n",
       " 3: [0, 1, 1, 0],\n",
       " 4: [0, 1, 1, 0],\n",
       " 5: [0, 1, 0, 1],\n",
       " 6: [0, 1, 1, 0]}"
      ]
     },
     "execution_count": 5,
     "metadata": {},
     "output_type": "execute_result"
    }
   ],
   "source": [
    "with open('correct_template_by_label_ppdl.p', 'rb') as f: # {label: template}\n",
    "    correct_template_by_label = pickle.load(f) # the template shows what every\n",
    "correct_template_by_label"
   ]
  },
  {
   "cell_type": "code",
   "execution_count": 13,
   "metadata": {},
   "outputs": [
    {
     "data": {
      "text/plain": [
       "{0: 'AlarmClock',\n",
       " 1: 'AluminumFoil',\n",
       " 2: 'Apple',\n",
       " 3: 'AppleSliced',\n",
       " 4: 'ArmChair',\n",
       " 5: 'BaseballBat',\n",
       " 6: 'BasketBall',\n",
       " 7: 'Bathtub',\n",
       " 8: 'BathtubBasin',\n",
       " 9: 'Bed',\n",
       " 10: 'Blinds',\n",
       " 11: 'Book',\n",
       " 12: 'Boots',\n",
       " 13: 'Glassbottle',\n",
       " 14: 'Bowl',\n",
       " 15: 'Box',\n",
       " 16: 'Bread',\n",
       " 17: 'BreadSliced',\n",
       " 18: 'ButterKnife',\n",
       " 19: 'Cabinet',\n",
       " 20: 'Candle',\n",
       " 21: 'CD',\n",
       " 22: 'CellPhone',\n",
       " 23: 'Chair',\n",
       " 24: 'Cloth',\n",
       " 25: 'CoffeeMachine',\n",
       " 26: 'CoffeeTable',\n",
       " 27: 'CounterTop',\n",
       " 28: 'CreditCard',\n",
       " 29: 'Cup',\n",
       " 30: 'Curtains',\n",
       " 31: 'Desk',\n",
       " 32: 'DeskLamp',\n",
       " 33: 'Desktop',\n",
       " 34: 'DiningTable',\n",
       " 35: 'DishSponge',\n",
       " 36: 'DogBed',\n",
       " 37: 'Drawer',\n",
       " 38: 'Dresser',\n",
       " 39: 'Dumbbell',\n",
       " 40: 'Egg',\n",
       " 41: 'EggCracked',\n",
       " 42: 'Faucet',\n",
       " 43: 'Floor',\n",
       " 44: 'FloorLamp',\n",
       " 45: 'Footstool',\n",
       " 46: 'Fork',\n",
       " 47: 'Fridge',\n",
       " 48: 'GarbageBag',\n",
       " 49: 'GarbageCan',\n",
       " 50: 'HandTowel',\n",
       " 51: 'HandTowelHolder',\n",
       " 52: 'HousePlant',\n",
       " 53: 'Kettle',\n",
       " 54: 'KeyChain',\n",
       " 55: 'Knife',\n",
       " 56: 'Ladle',\n",
       " 57: 'Laptop',\n",
       " 58: 'LaundryHamper',\n",
       " 59: 'Lettuce',\n",
       " 60: 'LettuceSliced',\n",
       " 61: 'LightSwitch',\n",
       " 62: 'Microwave',\n",
       " 63: 'Mirror',\n",
       " 64: 'Mug',\n",
       " 65: 'Newspaper',\n",
       " 66: 'Ottoman',\n",
       " 67: 'Painting',\n",
       " 68: 'Pan',\n",
       " 69: 'PaperTowel',\n",
       " 70: 'Pen',\n",
       " 71: 'Pencil',\n",
       " 72: 'PepperShaker',\n",
       " 73: 'Pillow',\n",
       " 74: 'Plate',\n",
       " 75: 'Plunger',\n",
       " 76: 'Poster',\n",
       " 77: 'Pot',\n",
       " 78: 'Potato',\n",
       " 79: 'PotatoSliced',\n",
       " 80: 'RemoteControl',\n",
       " 81: 'RoomDecor',\n",
       " 82: 'Safe',\n",
       " 83: 'SaltShaker',\n",
       " 84: 'ScrubBrush',\n",
       " 85: 'Shelf',\n",
       " 86: 'ShelvingUnit',\n",
       " 87: 'ShowerCurtain',\n",
       " 88: 'ShowerDoor',\n",
       " 89: 'ShowerGlass',\n",
       " 90: 'ShowerHead',\n",
       " 91: 'SideTable',\n",
       " 92: 'Sink',\n",
       " 93: 'SinkBasin',\n",
       " 94: 'SoapBar',\n",
       " 95: 'SoapBottle',\n",
       " 96: 'Sofa',\n",
       " 97: 'Spatula',\n",
       " 98: 'Spoon',\n",
       " 99: 'SprayBottle',\n",
       " 100: 'Statue',\n",
       " 101: 'Stool',\n",
       " 102: 'StoveBurner',\n",
       " 103: 'StoveKnob',\n",
       " 104: 'TableTopDecor',\n",
       " 105: 'TargetCircle',\n",
       " 106: 'TeddyBear',\n",
       " 107: 'Television',\n",
       " 108: 'TennisRacket',\n",
       " 109: 'TissueBox',\n",
       " 110: 'Toaster',\n",
       " 111: 'Toilet',\n",
       " 112: 'ToiletPaper',\n",
       " 113: 'ToiletPaperHanger',\n",
       " 114: 'Tomato',\n",
       " 115: 'TomatoSliced',\n",
       " 116: 'Towel',\n",
       " 117: 'TowelHolder',\n",
       " 118: 'TVStand',\n",
       " 119: 'VacuumCleaner',\n",
       " 120: 'Vase',\n",
       " 121: 'Watch',\n",
       " 122: 'WateringCan',\n",
       " 123: 'Window',\n",
       " 124: 'WineBottle',\n",
       " 125: None}"
      ]
     },
     "execution_count": 13,
     "metadata": {},
     "output_type": "execute_result"
    }
   ],
   "source": [
    "with open('obj2idx.p', 'rb') as f:\n",
    "    obj2idx = pickle.load(f)\n",
    "obj2idx\n",
    "obj2idx.items()\n",
    "{v:k for k, v in obj2idx.items()} #only glassbottle should remain"
   ]
  },
  {
   "cell_type": "code",
   "execution_count": 22,
   "metadata": {},
   "outputs": [
    {
     "data": {
      "text/plain": [
       "{41: None,\n",
       " 0: 'TowelHolder',\n",
       " 1: 'Cup',\n",
       " 2: 'CoffeeMachine',\n",
       " 3: 'Sink',\n",
       " 4: 'Ottoman',\n",
       " 5: 'CounterTop',\n",
       " 6: 'Desk',\n",
       " 7: 'Sofa',\n",
       " 8: 'Mug',\n",
       " 9: 'CoffeeTable',\n",
       " 10: 'ToiletPaperHanger',\n",
       " 11: 'Pot',\n",
       " 12: 'TVStand',\n",
       " 13: 'Cart',\n",
       " 14: 'Cabinet',\n",
       " 15: 'Toilet',\n",
       " 16: 'DiningTable',\n",
       " 17: 'Safe',\n",
       " 18: 'Bathtub',\n",
       " 19: 'LaundryHamper',\n",
       " 20: 'HandTowelHolder',\n",
       " 21: 'Dresser',\n",
       " 22: 'Pan',\n",
       " 23: 'Plate',\n",
       " 24: 'Box',\n",
       " 25: 'BathtubBasin',\n",
       " 26: 'StoveBurner',\n",
       " 27: 'SideTable',\n",
       " 28: 'Fridge',\n",
       " 29: 'GarbageCan',\n",
       " 30: 'DiningTable,TVStand',\n",
       " 31: 'Toaster',\n",
       " 32: 'Drawer',\n",
       " 33: 'Bowl',\n",
       " 34: 'Shelf',\n",
       " 35: 'ArmChair',\n",
       " 36: 'Sink,Sink',\n",
       " 37: 'Bed',\n",
       " 38: 'SinkBasin',\n",
       " 39: 'TVStand,CoffeeTable',\n",
       " 40: 'Microwave'}"
      ]
     },
     "execution_count": 22,
     "metadata": {},
     "output_type": "execute_result"
    }
   ],
   "source": [
    "with open('recep2idx.p', 'rb') as f:\n",
    "    recep2idx = pickle.load(f)\n",
    "recep2idx\n",
    "{v:k for k, v in recep2idx.items()}"
   ]
  },
  {
   "cell_type": "code",
   "execution_count": 8,
   "metadata": {},
   "outputs": [
    {
     "data": {
      "text/plain": [
       "{0: [1, 1, 1, 0],\n",
       " 1: [0, 1, 1, 0],\n",
       " 2: [0, 1, 1, 0],\n",
       " 3: [0, 1, 1, 0],\n",
       " 4: [0, 1, 1, 0],\n",
       " 5: [0, 1, 0, 1],\n",
       " 6: [0, 1, 1, 0]}"
      ]
     },
     "execution_count": 8,
     "metadata": {},
     "output_type": "execute_result"
    }
   ],
   "source": [
    "with open('template_by_label.p', 'rb') as f: # gives the template for each label\n",
    "    template_by_label = pickle.load(f) # example \n",
    "template_by_label"
   ]
  },
  {
   "cell_type": "code",
   "execution_count": 9,
   "metadata": {},
   "outputs": [
    {
     "data": {
      "text/plain": [
       "{None: 14,\n",
       " 'Candle': 0,\n",
       " 'CellPhone': 1,\n",
       " 'CoffeeMachine': 2,\n",
       " 'DeskLamp': 3,\n",
       " 'Faucet': 4,\n",
       " 'FloorLamp': 5,\n",
       " 'Laptop': 6,\n",
       " 'LightSwitch': 7,\n",
       " 'Microwave': 8,\n",
       " 'ShowerHead': 9,\n",
       " 'StoveBurner': 10,\n",
       " 'StoveKnob': 11,\n",
       " 'Television': 12,\n",
       " 'Toaster': 13}"
      ]
     },
     "execution_count": 9,
     "metadata": {},
     "output_type": "execute_result"
    }
   ],
   "source": [
    "with open('toggle2idx.p', 'rb') as f:\n",
    "    toggle2idx = pickle.load(f)\n",
    "toggle2idx"
   ]
  },
  {
   "cell_type": "code",
   "execution_count": null,
   "metadata": {},
   "outputs": [],
   "source": []
  }
 ],
 "metadata": {
  "kernelspec": {
   "display_name": "Python 3",
   "language": "python",
   "name": "python3"
  },
  "language_info": {
   "codemirror_mode": {
    "name": "ipython",
    "version": 3
   },
   "file_extension": ".py",
   "mimetype": "text/x-python",
   "name": "python",
   "nbconvert_exporter": "python",
   "pygments_lexer": "ipython3",
   "version": "3.6.8"
  },
  "orig_nbformat": 4
 },
 "nbformat": 4,
 "nbformat_minor": 2
}
